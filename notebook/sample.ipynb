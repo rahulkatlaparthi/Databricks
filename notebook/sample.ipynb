# Databricks notebook source
# Title: Exploratory Data Analysis
# Description: Analyze dataset for patterns and distributions.

# Import libraries
import pandas as pd
import matplotlib.pyplot as plt
import seaborn as sns
from src.utils.data_utils import load_data

# Load configuration
config = spark.read.json("/dbfs/FileStore/config/config.yaml").collect()[0].asDict()

# Load data
data_path = config["data_path"]
df = load_data(data_path)

# Basic EDA
display(df.describe())
display(df.head())

# Visualize distribution of a numeric column
plt.figure(figsize=(10, 6))
sns.histplot(df["numeric_column"], kde=True)
plt.title("Distribution of Numeric Column")
plt.show()

# Correlation matrix
numeric_cols = df.select_dtypes(include=["float", "int"]).columns
corr_matrix = df[numeric_cols].corr()
plt.figure(figsize=(8, 6))
sns.heatmap(corr_matrix, annot=True, cmap="coolwarm")
plt.title("Correlation Matrix")
plt.show()
